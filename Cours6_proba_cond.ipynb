{
 "cells": [
  {
   "cell_type": "markdown",
   "id": "c348f295",
   "metadata": {},
   "source": [
    "## les mesures de bases"
   ]
  },
  {
   "cell_type": "code",
   "execution_count": 34,
   "id": "122ac93b",
   "metadata": {},
   "outputs": [
    {
     "data": {
      "text/plain": [
       "11"
      ]
     },
     "execution_count": 34,
     "metadata": {},
     "output_type": "execute_result"
    }
   ],
   "source": [
    "import numpy as np\n",
    "data = np.array([15, 20, 25, 35, 35, 40, 45, 50, 50, 55, 100])\n",
    "len(data)"
   ]
  },
  {
   "cell_type": "markdown",
   "id": "f524dfe5",
   "metadata": {},
   "source": [
    "# ----------------------------------------------------\n",
    "# 1. tendance centrale"
   ]
  },
  {
   "cell_type": "code",
   "execution_count": 35,
   "id": "900214b6",
   "metadata": {},
   "outputs": [
    {
     "name": "stdout",
     "output_type": "stream",
     "text": [
      "Mean: 42.72727272727273\n",
      "Median: 40.0\n"
     ]
    }
   ],
   "source": [
    "# 1. Mean (Arithmetic Mean)\n",
    "mean = np.mean(data)\n",
    "print(\"Mean:\", mean)\n",
    "\n",
    "# 2. Median\n",
    "median = np.median(data)\n",
    "print(\"Median:\", median)"
   ]
  },
  {
   "cell_type": "code",
   "execution_count": 36,
   "id": "6c71cdfd",
   "metadata": {},
   "outputs": [],
   "source": [
    "## le mode\n",
    "uniques, counts = np.unique(L, return_counts=True)"
   ]
  },
  {
   "cell_type": "code",
   "execution_count": 37,
   "id": "f9870e6b",
   "metadata": {},
   "outputs": [
    {
     "data": {
      "text/plain": [
       "array([1, 3, 4, 5, 6])"
      ]
     },
     "execution_count": 37,
     "metadata": {},
     "output_type": "execute_result"
    }
   ],
   "source": [
    "uniques"
   ]
  },
  {
   "cell_type": "code",
   "execution_count": 38,
   "id": "6d21f6b4",
   "metadata": {},
   "outputs": [
    {
     "data": {
      "text/plain": [
       "array([4, 1, 1, 1, 4], dtype=int64)"
      ]
     },
     "execution_count": 38,
     "metadata": {},
     "output_type": "execute_result"
    }
   ],
   "source": [
    "counts"
   ]
  },
  {
   "cell_type": "code",
   "execution_count": 39,
   "id": "1c543ee2",
   "metadata": {},
   "outputs": [
    {
     "data": {
      "text/plain": [
       "4"
      ]
     },
     "execution_count": 39,
     "metadata": {},
     "output_type": "execute_result"
    }
   ],
   "source": [
    "max_count = np.max(counts)  #le nombre (ou les nombres) qui se répéte(nt) le plus\n",
    "max_count"
   ]
  },
  {
   "cell_type": "code",
   "execution_count": 40,
   "id": "bcb1de63",
   "metadata": {},
   "outputs": [
    {
     "data": {
      "text/plain": [
       "array([ True, False, False, False,  True])"
      ]
     },
     "execution_count": 40,
     "metadata": {},
     "output_type": "execute_result"
    }
   ],
   "source": [
    "B = counts == max_count\n",
    "B"
   ]
  },
  {
   "cell_type": "code",
   "execution_count": 41,
   "id": "fd2718ec",
   "metadata": {},
   "outputs": [
    {
     "data": {
      "text/plain": [
       "array([1, 6])"
      ]
     },
     "execution_count": 41,
     "metadata": {},
     "output_type": "execute_result"
    }
   ],
   "source": [
    "modes = uniques[B]\n",
    "modes"
   ]
  },
  {
   "cell_type": "markdown",
   "id": "79741044",
   "metadata": {},
   "source": [
    "## ---------------------------------------------\n",
    "\n",
    "# 2. variabilité "
   ]
  },
  {
   "cell_type": "code",
   "execution_count": 42,
   "id": "4b4bb465",
   "metadata": {},
   "outputs": [
    {
     "name": "stdout",
     "output_type": "stream",
     "text": [
      "Standard Deviation: 21.884369304019497\n",
      "Variance: 478.92561983471074\n"
     ]
    }
   ],
   "source": [
    "# 4. Standard Deviation\n",
    "std_dev = np.std(data)\n",
    "print(\"Standard Deviation:\", std_dev)\n",
    "\n",
    "# 5. Variance\n",
    "variance = np.var(data)\n",
    "print(\"Variance:\", variance)"
   ]
  },
  {
   "cell_type": "code",
   "execution_count": 43,
   "id": "a7d738ad",
   "metadata": {},
   "outputs": [
    {
     "data": {
      "text/plain": [
       "85"
      ]
     },
     "execution_count": 43,
     "metadata": {},
     "output_type": "execute_result"
    }
   ],
   "source": [
    "# 6. étendu\n",
    "np.max(data) - np.min(data)"
   ]
  },
  {
   "cell_type": "markdown",
   "id": "202a7cd6",
   "metadata": {},
   "source": [
    "# 3. Analyse combinatoire"
   ]
  },
  {
   "cell_type": "code",
   "execution_count": null,
   "id": "0d89127a",
   "metadata": {},
   "outputs": [],
   "source": [
    "### last time I checked, numpy doesn't have factorial, so we'll use math"
   ]
  },
  {
   "cell_type": "code",
   "execution_count": 44,
   "id": "f36dfcfe",
   "metadata": {},
   "outputs": [
    {
     "data": {
      "text/plain": [
       "60.0"
      ]
     },
     "execution_count": 44,
     "metadata": {},
     "output_type": "execute_result"
    }
   ],
   "source": [
    "import math\n",
    "\n",
    "# Permutations: P(n, r) = n! / (n - r)!\n",
    "def permutations(n, r):\n",
    "    return math.factorial(n) / math.factorial(n - r)\n",
    "\n",
    "n = 5\n",
    "r = 3\n",
    "permutations(n, r)"
   ]
  },
  {
   "cell_type": "code",
   "execution_count": 4,
   "id": "eb00bbbb",
   "metadata": {},
   "outputs": [
    {
     "data": {
      "text/plain": [
       "3.0"
      ]
     },
     "execution_count": 4,
     "metadata": {},
     "output_type": "execute_result"
    }
   ],
   "source": [
    "import math\n",
    "\n",
    "# Combinaisons: C(n, r) = n! / (r! * (n - r)!)\n",
    "def combinations(n, r):\n",
    "    return math.factorial(n) / (math.factorial(r) * math.factorial(n - r))\n",
    "\n",
    "n = 3\n",
    "r = 1\n",
    "combinations(n, r)"
   ]
  },
  {
   "cell_type": "markdown",
   "id": "23b60d80",
   "metadata": {},
   "source": [
    "### Maintenant on peut juste utliser les fonction ci-dessus pour calculer:\n",
    "\n",
    "   * les probabilité d'événement aléatoire\n",
    "   * l'éspérence\n",
    "   * etc."
   ]
  },
  {
   "cell_type": "code",
   "execution_count": null,
   "id": "d23f13d4",
   "metadata": {},
   "outputs": [],
   "source": []
  },
  {
   "cell_type": "markdown",
   "id": "ee381cce",
   "metadata": {},
   "source": [
    "# 4. Probabilité conditionelle\n",
    "\n",
    "### Intersection et Union"
   ]
  },
  {
   "cell_type": "code",
   "execution_count": null,
   "id": "f24067fd",
   "metadata": {},
   "outputs": [],
   "source": [
    "## hint\n",
    "set1 = {1, 2, 3, 4}\n",
    "# set1. ## tabulation pour voir (il y a intersection et union)"
   ]
  },
  {
   "cell_type": "code",
   "execution_count": 1,
   "id": "307a4950",
   "metadata": {},
   "outputs": [
    {
     "name": "stdout",
     "output_type": "stream",
     "text": [
      "{3, 4}\n"
     ]
    }
   ],
   "source": [
    "### les sets\n",
    "\n",
    "set1 = {1, 2, 3, 4}\n",
    "set2 = {3, 4, 5, 6}\n",
    "\n",
    "intersection_set = set1 & set2  \n",
    "# ou\n",
    "intersection_set = set1.intersection(set2)\n",
    "\n",
    "print(intersection_set)\n"
   ]
  },
  {
   "cell_type": "code",
   "execution_count": 6,
   "id": "da161f8f",
   "metadata": {
    "scrolled": true
   },
   "outputs": [
    {
     "name": "stdout",
     "output_type": "stream",
     "text": [
      "{3, 4}\n"
     ]
    }
   ],
   "source": [
    "\n",
    "# --------------------------------------\n",
    "### les listes\n",
    "\n",
    "# list1 = [1, 2, 3, 4, 4]\n",
    "# list2 = [3, 4, 5, 6]\n",
    "\n",
    "# intersection_list = [value for value in list1 if value in list2]\n",
    "\n",
    "# print(intersection_list)\n"
   ]
  },
  {
   "cell_type": "code",
   "execution_count": 2,
   "id": "d9558179",
   "metadata": {},
   "outputs": [
    {
     "name": "stdout",
     "output_type": "stream",
     "text": [
      "{1, 2, 3, 4, 5, 6}\n"
     ]
    }
   ],
   "source": [
    "## union:  P(A U B) = P (A) + P (B) − P (A ∩ B)  \n",
    "\n",
    "set1 = {1, 2, 3, 4}\n",
    "set2 = {3, 4, 5, 6}\n",
    "\n",
    "union_set = set1 | set2  \n",
    "# ou\n",
    "union_set = set1.union(set2)\n",
    "\n",
    "print(union_set)"
   ]
  },
  {
   "cell_type": "markdown",
   "id": "d167b08c",
   "metadata": {},
   "source": [
    "## Venn diagram\n",
    "\n",
    "* A rajouter dans votre projet (l'application)"
   ]
  },
  {
   "cell_type": "code",
   "execution_count": 74,
   "id": "fd7b97ac",
   "metadata": {},
   "outputs": [
    {
     "data": {
      "text/plain": [
       "{1, 3, 4}"
      ]
     },
     "execution_count": 74,
     "metadata": {},
     "output_type": "execute_result"
    }
   ],
   "source": [
    "from matplotlib_venn import venn2\n",
    "import matplotlib.pyplot as plt\n",
    "\n",
    "set1 = {1, 2, 3, 4, 5}\n",
    "set2 = {3, 4, 6, 9, 10, 1, 8}\n",
    "\n",
    "set1 & set2  #intersection"
   ]
  },
  {
   "cell_type": "code",
   "execution_count": 75,
   "id": "445e815a",
   "metadata": {},
   "outputs": [
    {
     "data": {
      "image/png": "[encoded data removed]",
      "text/plain": [
       "<Figure size 640x480 with 1 Axes>"
      ]
     },
     "metadata": {},
     "output_type": "display_data"
    }
   ],
   "source": [
    "venn2([set1, set2], ('Set 1', 'Set 2'))\n",
    "plt.title(\"Venn Diagram Example\")\n",
    "plt.show()"
   ]
  },
  {
   "cell_type": "markdown",
   "id": "9e7ec545",
   "metadata": {},
   "source": [
    "### Cross table (ou contigency table) \n",
    "\n",
    " * Pour résumer la distribution de deux variables catégoriques "
   ]
  },
  {
   "cell_type": "code",
   "execution_count": 1,
   "id": "88b172fc",
   "metadata": {},
   "outputs": [
    {
     "data": {
      "text/html": [
       "<div>\n",
       "<style scoped>\n",
       "    .dataframe tbody tr th:only-of-type {\n",
       "        vertical-align: middle;\n",
       "    }\n",
       "\n",
       "    .dataframe tbody tr th {\n",
       "        vertical-align: top;\n",
       "    }\n",
       "\n",
       "    .dataframe thead th {\n",
       "        text-align: right;\n",
       "    }\n",
       "</style>\n",
       "<table border=\"1\" class=\"dataframe\">\n",
       "  <thead>\n",
       "    <tr style=\"text-align: right;\">\n",
       "      <th></th>\n",
       "      <th>gender</th>\n",
       "      <th>sport</th>\n",
       "    </tr>\n",
       "  </thead>\n",
       "  <tbody>\n",
       "    <tr>\n",
       "      <th>0</th>\n",
       "      <td>Male</td>\n",
       "      <td>Baseball</td>\n",
       "    </tr>\n",
       "    <tr>\n",
       "      <th>1</th>\n",
       "      <td>Male</td>\n",
       "      <td>Baseball</td>\n",
       "    </tr>\n",
       "    <tr>\n",
       "      <th>2</th>\n",
       "      <td>Male</td>\n",
       "      <td>Baseball</td>\n",
       "    </tr>\n",
       "    <tr>\n",
       "      <th>3</th>\n",
       "      <td>Male</td>\n",
       "      <td>Baseball</td>\n",
       "    </tr>\n",
       "    <tr>\n",
       "      <th>4</th>\n",
       "      <td>Male</td>\n",
       "      <td>Baseball</td>\n",
       "    </tr>\n",
       "    <tr>\n",
       "      <th>...</th>\n",
       "      <td>...</td>\n",
       "      <td>...</td>\n",
       "    </tr>\n",
       "    <tr>\n",
       "      <th>295</th>\n",
       "      <td>Female</td>\n",
       "      <td>Soccer</td>\n",
       "    </tr>\n",
       "    <tr>\n",
       "      <th>296</th>\n",
       "      <td>Female</td>\n",
       "      <td>Soccer</td>\n",
       "    </tr>\n",
       "    <tr>\n",
       "      <th>297</th>\n",
       "      <td>Female</td>\n",
       "      <td>Soccer</td>\n",
       "    </tr>\n",
       "    <tr>\n",
       "      <th>298</th>\n",
       "      <td>Female</td>\n",
       "      <td>Soccer</td>\n",
       "    </tr>\n",
       "    <tr>\n",
       "      <th>299</th>\n",
       "      <td>Female</td>\n",
       "      <td>Soccer</td>\n",
       "    </tr>\n",
       "  </tbody>\n",
       "</table>\n",
       "<p>300 rows × 2 columns</p>\n",
       "</div>"
      ],
      "text/plain": [
       "     gender     sport\n",
       "0      Male  Baseball\n",
       "1      Male  Baseball\n",
       "2      Male  Baseball\n",
       "3      Male  Baseball\n",
       "4      Male  Baseball\n",
       "..      ...       ...\n",
       "295  Female    Soccer\n",
       "296  Female    Soccer\n",
       "297  Female    Soccer\n",
       "298  Female    Soccer\n",
       "299  Female    Soccer\n",
       "\n",
       "[300 rows x 2 columns]"
      ]
     },
     "execution_count": 1,
     "metadata": {},
     "output_type": "execute_result"
    }
   ],
   "source": [
    "import pandas as pd\n",
    "import numpy as np\n",
    "\n",
    "df = pd.DataFrame({'gender': np.repeat(np.array(['Male', 'Female']), 150),\n",
    "                   'sport': np.repeat(np.array(['Baseball', 'Basketball', 'Football',\n",
    "                                                'Soccer', 'Baseball', 'Basketball',\n",
    "                                                'Football', 'Soccer']), \n",
    "                                    (34, 40, 58, 18, 34, 52, 20, 44))})\n",
    "\n",
    "df"
   ]
  },
  {
   "cell_type": "code",
   "execution_count": 2,
   "id": "8fc1867c",
   "metadata": {},
   "outputs": [
    {
     "data": {
      "text/plain": [
       "300"
      ]
     },
     "execution_count": 2,
     "metadata": {},
     "output_type": "execute_result"
    }
   ],
   "source": [
    "len(df)"
   ]
  },
  {
   "cell_type": "code",
   "execution_count": null,
   "id": "70352ec4",
   "metadata": {},
   "outputs": [],
   "source": [
    "## ici, nous pouvons visualiser le résumé de ces 300 lignes de manière \n",
    "## résumée et plus informative"
   ]
  },
  {
   "cell_type": "code",
   "execution_count": 3,
   "id": "77ea483d",
   "metadata": {},
   "outputs": [
    {
     "data": {
      "text/html": [
       "<div>\n",
       "<style scoped>\n",
       "    .dataframe tbody tr th:only-of-type {\n",
       "        vertical-align: middle;\n",
       "    }\n",
       "\n",
       "    .dataframe tbody tr th {\n",
       "        vertical-align: top;\n",
       "    }\n",
       "\n",
       "    .dataframe thead th {\n",
       "        text-align: right;\n",
       "    }\n",
       "</style>\n",
       "<table border=\"1\" class=\"dataframe\">\n",
       "  <thead>\n",
       "    <tr style=\"text-align: right;\">\n",
       "      <th>sport</th>\n",
       "      <th>Baseball</th>\n",
       "      <th>Basketball</th>\n",
       "      <th>Football</th>\n",
       "      <th>Soccer</th>\n",
       "      <th>All</th>\n",
       "    </tr>\n",
       "    <tr>\n",
       "      <th>gender</th>\n",
       "      <th></th>\n",
       "      <th></th>\n",
       "      <th></th>\n",
       "      <th></th>\n",
       "      <th></th>\n",
       "    </tr>\n",
       "  </thead>\n",
       "  <tbody>\n",
       "    <tr>\n",
       "      <th>Female</th>\n",
       "      <td>34</td>\n",
       "      <td>52</td>\n",
       "      <td>20</td>\n",
       "      <td>44</td>\n",
       "      <td>150</td>\n",
       "    </tr>\n",
       "    <tr>\n",
       "      <th>Male</th>\n",
       "      <td>34</td>\n",
       "      <td>40</td>\n",
       "      <td>58</td>\n",
       "      <td>18</td>\n",
       "      <td>150</td>\n",
       "    </tr>\n",
       "    <tr>\n",
       "      <th>All</th>\n",
       "      <td>68</td>\n",
       "      <td>92</td>\n",
       "      <td>78</td>\n",
       "      <td>62</td>\n",
       "      <td>300</td>\n",
       "    </tr>\n",
       "  </tbody>\n",
       "</table>\n",
       "</div>"
      ],
      "text/plain": [
       "sport   Baseball  Basketball  Football  Soccer  All\n",
       "gender                                             \n",
       "Female        34          52        20      44  150\n",
       "Male          34          40        58      18  150\n",
       "All           68          92        78      62  300"
      ]
     },
     "execution_count": 3,
     "metadata": {},
     "output_type": "execute_result"
    }
   ],
   "source": [
    "tableau_de_contingence = pd.crosstab(index=df['gender'], columns=df['sport'], margins=True) \n",
    "                                                                    # True, rajoute colonne All\n",
    "\n",
    "tableau_de_contingence"
   ]
  },
  {
   "cell_type": "code",
   "execution_count": null,
   "id": "5af4f991",
   "metadata": {},
   "outputs": [],
   "source": []
  }
 ],
 "metadata": {
  "kernelspec": {
   "display_name": "Python 3 (ipykernel)",
   "language": "python",
   "name": "python3"
  },
  "language_info": {
   "codemirror_mode": {
    "name": "ipython",
    "version": 3
   },
   "file_extension": ".py",
   "mimetype": "text/x-python",
   "name": "python",
   "nbconvert_exporter": "python",
   "pygments_lexer": "ipython3",
   "version": "3.10.14"
  }
 },
 "nbformat": 4,
 "nbformat_minor": 5
}
