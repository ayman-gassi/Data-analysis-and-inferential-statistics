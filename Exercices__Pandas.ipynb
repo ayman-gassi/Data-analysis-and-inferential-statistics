{
 "cells": [
  {
   "cell_type": "markdown",
   "id": "24f93adf",
   "metadata": {},
   "source": [
    "# Ex  Pandas\n",
    "\n",
    "\n",
    "**Énoncé du problème :**\n",
    "\n",
    "Vous disposez d'un jeu de données dans un fichier CSV nommé \"sales_data.csv\". Ce jeu de données contient des informations sur les transactions de vente, notamment les colonnes suivantes : `Date`, `Produit`, `Quantité`, `Prix` et `Client`.\n",
    "\n",
    "Écrivez un programme Python à l'aide de Pandas pour effectuer les tâches suivantes :\n",
    "\n",
    "1. Créez un jeu de données fictif dans un DataFrame Pandas.\n",
    "2. Calculez le chiffre d'affaires total pour chaque catégorie de produit (somme de `Quantité` * `Prix` pour chaque produit).\n",
    "3. Trouvez les 5 produits ayant généré le chiffre d'affaires le plus élevé.\n",
    "4. Calculez le chiffre d'affaires total pour chaque mois et créez un nouveau DataFrame avec les colonnes `Mois` et `Chiffre d'affaires total`.\n",
    "5. Tracez un diagramme en barres montrant le chiffre d'affaires total pour chaque mois.\n",
    "\n",
    "\n"
   ]
  },
  {
   "cell_type": "code",
   "execution_count": null,
   "id": "6e21dcdd-c319-4362-9b13-e3bad49f70a2",
   "metadata": {},
   "outputs": [],
   "source": []
  },
  {
   "cell_type": "code",
   "execution_count": null,
   "id": "ce713649-c7bf-4c39-bb11-116083ff76f7",
   "metadata": {},
   "outputs": [],
   "source": []
  },
  {
   "cell_type": "code",
   "execution_count": null,
   "id": "7d4938f8-2c8f-4f68-88d0-dc70dc90223f",
   "metadata": {},
   "outputs": [],
   "source": []
  },
  {
   "cell_type": "markdown",
   "id": "b2f40899-f05f-441b-8cc4-d27cc5c7789d",
   "metadata": {},
   "source": [
    "**Solution:**"
   ]
  },
  {
   "cell_type": "code",
   "execution_count": null,
   "id": "f840fa5b-ff05-4042-8251-27417b5d8f0e",
   "metadata": {},
   "outputs": [],
   "source": []
  },
  {
   "cell_type": "code",
   "execution_count": 46,
   "id": "83286c91",
   "metadata": {},
   "outputs": [
    {
     "data": {
      "text/html": [
       "<div>\n",
       "<style scoped>\n",
       "    .dataframe tbody tr th:only-of-type {\n",
       "        vertical-align: middle;\n",
       "    }\n",
       "\n",
       "    .dataframe tbody tr th {\n",
       "        vertical-align: top;\n",
       "    }\n",
       "\n",
       "    .dataframe thead th {\n",
       "        text-align: right;\n",
       "    }\n",
       "</style>\n",
       "<table border=\"1\" class=\"dataframe\">\n",
       "  <thead>\n",
       "    <tr style=\"text-align: right;\">\n",
       "      <th></th>\n",
       "      <th>Date</th>\n",
       "      <th>Product</th>\n",
       "      <th>Quantity</th>\n",
       "      <th>Price</th>\n",
       "      <th>Customer</th>\n",
       "    </tr>\n",
       "  </thead>\n",
       "  <tbody>\n",
       "    <tr>\n",
       "      <th>0</th>\n",
       "      <td>2023-05-24</td>\n",
       "      <td>Product_10</td>\n",
       "      <td>5</td>\n",
       "      <td>91.448204</td>\n",
       "      <td>Customer_69</td>\n",
       "    </tr>\n",
       "    <tr>\n",
       "      <th>1</th>\n",
       "      <td>2023-08-11</td>\n",
       "      <td>Product_5</td>\n",
       "      <td>8</td>\n",
       "      <td>24.554508</td>\n",
       "      <td>Customer_50</td>\n",
       "    </tr>\n",
       "    <tr>\n",
       "      <th>2</th>\n",
       "      <td>2023-09-17</td>\n",
       "      <td>Product_10</td>\n",
       "      <td>6</td>\n",
       "      <td>29.150051</td>\n",
       "      <td>Customer_46</td>\n",
       "    </tr>\n",
       "    <tr>\n",
       "      <th>3</th>\n",
       "      <td>2023-08-11</td>\n",
       "      <td>Product_6</td>\n",
       "      <td>3</td>\n",
       "      <td>18.743583</td>\n",
       "      <td>Customer_54</td>\n",
       "    </tr>\n",
       "    <tr>\n",
       "      <th>4</th>\n",
       "      <td>2023-03-20</td>\n",
       "      <td>Product_5</td>\n",
       "      <td>1</td>\n",
       "      <td>30.581829</td>\n",
       "      <td>Customer_91</td>\n",
       "    </tr>\n",
       "    <tr>\n",
       "      <th>...</th>\n",
       "      <td>...</td>\n",
       "      <td>...</td>\n",
       "      <td>...</td>\n",
       "      <td>...</td>\n",
       "      <td>...</td>\n",
       "    </tr>\n",
       "    <tr>\n",
       "      <th>995</th>\n",
       "      <td>2023-01-20</td>\n",
       "      <td>Product_7</td>\n",
       "      <td>6</td>\n",
       "      <td>59.722312</td>\n",
       "      <td>Customer_88</td>\n",
       "    </tr>\n",
       "    <tr>\n",
       "      <th>996</th>\n",
       "      <td>2023-06-12</td>\n",
       "      <td>Product_2</td>\n",
       "      <td>5</td>\n",
       "      <td>76.249761</td>\n",
       "      <td>Customer_16</td>\n",
       "    </tr>\n",
       "    <tr>\n",
       "      <th>997</th>\n",
       "      <td>2023-11-08</td>\n",
       "      <td>Product_1</td>\n",
       "      <td>7</td>\n",
       "      <td>80.711902</td>\n",
       "      <td>Customer_45</td>\n",
       "    </tr>\n",
       "    <tr>\n",
       "      <th>998</th>\n",
       "      <td>2023-06-27</td>\n",
       "      <td>Product_6</td>\n",
       "      <td>10</td>\n",
       "      <td>10.594283</td>\n",
       "      <td>Customer_33</td>\n",
       "    </tr>\n",
       "    <tr>\n",
       "      <th>999</th>\n",
       "      <td>2023-05-03</td>\n",
       "      <td>Product_3</td>\n",
       "      <td>1</td>\n",
       "      <td>78.398868</td>\n",
       "      <td>Customer_35</td>\n",
       "    </tr>\n",
       "  </tbody>\n",
       "</table>\n",
       "<p>1000 rows × 5 columns</p>\n",
       "</div>"
      ],
      "text/plain": [
       "           Date     Product  Quantity      Price     Customer\n",
       "0    2023-05-24  Product_10         5  91.448204  Customer_69\n",
       "1    2023-08-11   Product_5         8  24.554508  Customer_50\n",
       "2    2023-09-17  Product_10         6  29.150051  Customer_46\n",
       "3    2023-08-11   Product_6         3  18.743583  Customer_54\n",
       "4    2023-03-20   Product_5         1  30.581829  Customer_91\n",
       "..          ...         ...       ...        ...          ...\n",
       "995  2023-01-20   Product_7         6  59.722312  Customer_88\n",
       "996  2023-06-12   Product_2         5  76.249761  Customer_16\n",
       "997  2023-11-08   Product_1         7  80.711902  Customer_45\n",
       "998  2023-06-27   Product_6        10  10.594283  Customer_33\n",
       "999  2023-05-03   Product_3         1  78.398868  Customer_35\n",
       "\n",
       "[1000 rows x 5 columns]"
      ]
     },
     "execution_count": 46,
     "metadata": {},
     "output_type": "execute_result"
    }
   ],
   "source": [
    "import pandas as pd\n",
    "import matplotlib.pyplot as plt\n",
    "import random\n",
    "import datetime\n",
    "\n",
    "# 1. create a fake dataset\n",
    "\n",
    "data = {\n",
    "    'Date': [datetime.date(2023, random.randint(1, 12), random.randint(1, 28)) for _ in range(1000)],\n",
    "    'Product': [f'Product_{random.randint(1, 10)}' for _ in range(1000)],\n",
    "    'Quantity': [random.randint(1, 10) for _ in range(1000)],\n",
    "    'Price': [random.uniform(10, 100) for _ in range(1000)],\n",
    "    'Customer': [f'Customer_{random.randint(1, 100)}' for _ in range(1000)]\n",
    "}\n",
    "\n",
    "# Create a DataFrame\n",
    "df = pd.DataFrame(data)\n",
    "df\n",
    "\n",
    "# Calculez le chiffre d'affaires total pour chaque catégorie de produit (somme de Quantité * Prix pour chaque produit).\n",
    "\n",
    "# Save the DataFrame to a CSV file\n",
    "# df.to_csv('sales_data.csv', index=False)\n"
   ]
  },
  {
   "cell_type": "code",
   "execution_count": null,
   "id": "696bb362-4388-4171-bf68-2bdf6aeaa8eb",
   "metadata": {},
   "outputs": [],
   "source": []
  },
  {
   "cell_type": "code",
   "execution_count": 47,
   "id": "139be783",
   "metadata": {},
   "outputs": [
    {
     "data": {
      "text/html": [
       "<div>\n",
       "<style scoped>\n",
       "    .dataframe tbody tr th:only-of-type {\n",
       "        vertical-align: middle;\n",
       "    }\n",
       "\n",
       "    .dataframe tbody tr th {\n",
       "        vertical-align: top;\n",
       "    }\n",
       "\n",
       "    .dataframe thead th {\n",
       "        text-align: right;\n",
       "    }\n",
       "</style>\n",
       "<table border=\"1\" class=\"dataframe\">\n",
       "  <thead>\n",
       "    <tr style=\"text-align: right;\">\n",
       "      <th></th>\n",
       "      <th>Date</th>\n",
       "      <th>Product</th>\n",
       "      <th>Quantity</th>\n",
       "      <th>Price</th>\n",
       "      <th>Customer</th>\n",
       "      <th>Total Revenue</th>\n",
       "    </tr>\n",
       "  </thead>\n",
       "  <tbody>\n",
       "    <tr>\n",
       "      <th>0</th>\n",
       "      <td>2023-05-24</td>\n",
       "      <td>Product_10</td>\n",
       "      <td>5</td>\n",
       "      <td>91.448204</td>\n",
       "      <td>Customer_69</td>\n",
       "      <td>457.241022</td>\n",
       "    </tr>\n",
       "    <tr>\n",
       "      <th>1</th>\n",
       "      <td>2023-08-11</td>\n",
       "      <td>Product_5</td>\n",
       "      <td>8</td>\n",
       "      <td>24.554508</td>\n",
       "      <td>Customer_50</td>\n",
       "      <td>196.436062</td>\n",
       "    </tr>\n",
       "    <tr>\n",
       "      <th>2</th>\n",
       "      <td>2023-09-17</td>\n",
       "      <td>Product_10</td>\n",
       "      <td>6</td>\n",
       "      <td>29.150051</td>\n",
       "      <td>Customer_46</td>\n",
       "      <td>174.900306</td>\n",
       "    </tr>\n",
       "    <tr>\n",
       "      <th>3</th>\n",
       "      <td>2023-08-11</td>\n",
       "      <td>Product_6</td>\n",
       "      <td>3</td>\n",
       "      <td>18.743583</td>\n",
       "      <td>Customer_54</td>\n",
       "      <td>56.230748</td>\n",
       "    </tr>\n",
       "    <tr>\n",
       "      <th>4</th>\n",
       "      <td>2023-03-20</td>\n",
       "      <td>Product_5</td>\n",
       "      <td>1</td>\n",
       "      <td>30.581829</td>\n",
       "      <td>Customer_91</td>\n",
       "      <td>30.581829</td>\n",
       "    </tr>\n",
       "  </tbody>\n",
       "</table>\n",
       "</div>"
      ],
      "text/plain": [
       "         Date     Product  Quantity      Price     Customer  Total Revenue\n",
       "0  2023-05-24  Product_10         5  91.448204  Customer_69     457.241022\n",
       "1  2023-08-11   Product_5         8  24.554508  Customer_50     196.436062\n",
       "2  2023-09-17  Product_10         6  29.150051  Customer_46     174.900306\n",
       "3  2023-08-11   Product_6         3  18.743583  Customer_54      56.230748\n",
       "4  2023-03-20   Product_5         1  30.581829  Customer_91      30.581829"
      ]
     },
     "execution_count": 47,
     "metadata": {},
     "output_type": "execute_result"
    }
   ],
   "source": [
    "# 2. Calculate total sales revenue for each product category\n",
    "df['Total Revenue'] = df['Quantity'] * df['Price']\n",
    "df.head()"
   ]
  },
  {
   "cell_type": "code",
   "execution_count": 48,
   "id": "9c0b84fd",
   "metadata": {},
   "outputs": [
    {
     "data": {
      "text/plain": [
       "Product\n",
       "Product_7    34295.281910\n",
       "Product_8    33989.293000\n",
       "Product_9    32905.072984\n",
       "Product_5    32480.414306\n",
       "Product_4    32434.924401\n",
       "Name: Total Revenue, dtype: float64"
      ]
     },
     "execution_count": 48,
     "metadata": {},
     "output_type": "execute_result"
    }
   ],
   "source": [
    "# 3. Find the top 5 products generating the highest revenue\n",
    "product_revenue = df.groupby('Product')['Total Revenue'].sum().sort_values(ascending=False)\n",
    "top_5_products = product_revenue.head(5)\n",
    "top_5_products"
   ]
  },
  {
   "cell_type": "code",
   "execution_count": 49,
   "id": "55842d57",
   "metadata": {},
   "outputs": [
    {
     "name": "stdout",
     "output_type": "stream",
     "text": [
      "<class 'pandas.core.frame.DataFrame'>\n",
      "RangeIndex: 1000 entries, 0 to 999\n",
      "Data columns (total 6 columns):\n",
      " #   Column         Non-Null Count  Dtype  \n",
      "---  ------         --------------  -----  \n",
      " 0   Date           1000 non-null   object \n",
      " 1   Product        1000 non-null   object \n",
      " 2   Quantity       1000 non-null   int64  \n",
      " 3   Price          1000 non-null   float64\n",
      " 4   Customer       1000 non-null   object \n",
      " 5   Total Revenue  1000 non-null   float64\n",
      "dtypes: float64(2), int64(1), object(3)\n",
      "memory usage: 47.0+ KB\n"
     ]
    }
   ],
   "source": [
    "df.info()"
   ]
  },
  {
   "cell_type": "code",
   "execution_count": 51,
   "id": "5e6479d9-5177-4d3f-a571-db63d0a6a967",
   "metadata": {},
   "outputs": [
    {
     "data": {
      "text/plain": [
       "pandas.core.indexes.accessors.DatetimeProperties"
      ]
     },
     "execution_count": 51,
     "metadata": {},
     "output_type": "execute_result"
    }
   ],
   "source": [
    "type(df['Date'].dt)"
   ]
  },
  {
   "cell_type": "code",
   "execution_count": null,
   "id": "264b8801-70c3-4a3c-bc23-af68315b54ca",
   "metadata": {},
   "outputs": [],
   "source": []
  },
  {
   "cell_type": "code",
   "execution_count": 50,
   "id": "eefce27e",
   "metadata": {},
   "outputs": [
    {
     "data": {
      "text/html": [
       "<div>\n",
       "<style scoped>\n",
       "    .dataframe tbody tr th:only-of-type {\n",
       "        vertical-align: middle;\n",
       "    }\n",
       "\n",
       "    .dataframe tbody tr th {\n",
       "        vertical-align: top;\n",
       "    }\n",
       "\n",
       "    .dataframe thead th {\n",
       "        text-align: right;\n",
       "    }\n",
       "</style>\n",
       "<table border=\"1\" class=\"dataframe\">\n",
       "  <thead>\n",
       "    <tr style=\"text-align: right;\">\n",
       "      <th></th>\n",
       "      <th>Date</th>\n",
       "      <th>Product</th>\n",
       "      <th>Quantity</th>\n",
       "      <th>Price</th>\n",
       "      <th>Customer</th>\n",
       "      <th>Total Revenue</th>\n",
       "      <th>Month</th>\n",
       "    </tr>\n",
       "  </thead>\n",
       "  <tbody>\n",
       "    <tr>\n",
       "      <th>0</th>\n",
       "      <td>2023-05-24</td>\n",
       "      <td>Product_10</td>\n",
       "      <td>5</td>\n",
       "      <td>91.448204</td>\n",
       "      <td>Customer_69</td>\n",
       "      <td>457.241022</td>\n",
       "      <td>5</td>\n",
       "    </tr>\n",
       "    <tr>\n",
       "      <th>1</th>\n",
       "      <td>2023-08-11</td>\n",
       "      <td>Product_5</td>\n",
       "      <td>8</td>\n",
       "      <td>24.554508</td>\n",
       "      <td>Customer_50</td>\n",
       "      <td>196.436062</td>\n",
       "      <td>8</td>\n",
       "    </tr>\n",
       "    <tr>\n",
       "      <th>2</th>\n",
       "      <td>2023-09-17</td>\n",
       "      <td>Product_10</td>\n",
       "      <td>6</td>\n",
       "      <td>29.150051</td>\n",
       "      <td>Customer_46</td>\n",
       "      <td>174.900306</td>\n",
       "      <td>9</td>\n",
       "    </tr>\n",
       "    <tr>\n",
       "      <th>3</th>\n",
       "      <td>2023-08-11</td>\n",
       "      <td>Product_6</td>\n",
       "      <td>3</td>\n",
       "      <td>18.743583</td>\n",
       "      <td>Customer_54</td>\n",
       "      <td>56.230748</td>\n",
       "      <td>8</td>\n",
       "    </tr>\n",
       "    <tr>\n",
       "      <th>4</th>\n",
       "      <td>2023-03-20</td>\n",
       "      <td>Product_5</td>\n",
       "      <td>1</td>\n",
       "      <td>30.581829</td>\n",
       "      <td>Customer_91</td>\n",
       "      <td>30.581829</td>\n",
       "      <td>3</td>\n",
       "    </tr>\n",
       "  </tbody>\n",
       "</table>\n",
       "</div>"
      ],
      "text/plain": [
       "        Date     Product  Quantity      Price     Customer  Total Revenue  \\\n",
       "0 2023-05-24  Product_10         5  91.448204  Customer_69     457.241022   \n",
       "1 2023-08-11   Product_5         8  24.554508  Customer_50     196.436062   \n",
       "2 2023-09-17  Product_10         6  29.150051  Customer_46     174.900306   \n",
       "3 2023-08-11   Product_6         3  18.743583  Customer_54      56.230748   \n",
       "4 2023-03-20   Product_5         1  30.581829  Customer_91      30.581829   \n",
       "\n",
       "   Month  \n",
       "0      5  \n",
       "1      8  \n",
       "2      9  \n",
       "3      8  \n",
       "4      3  "
      ]
     },
     "execution_count": 50,
     "metadata": {},
     "output_type": "execute_result"
    }
   ],
   "source": [
    "# 4. Calculate total sales revenue for eachmonth and create a new DataFrame\n",
    "df['Date'] = pd.to_datetime(df['Date'])\n",
    "df['Month'] = df['Date'].dt.month\n",
    "monthly_revenue = df.groupby('Month')['Total Revenue'].sum().reset_index()\n",
    "\n",
    "df.head()"
   ]
  },
  {
   "cell_type": "code",
   "execution_count": 10,
   "id": "e104d337",
   "metadata": {},
   "outputs": [
    {
     "data": {
      "text/html": [
       "<div>\n",
       "<style scoped>\n",
       "    .dataframe tbody tr th:only-of-type {\n",
       "        vertical-align: middle;\n",
       "    }\n",
       "\n",
       "    .dataframe tbody tr th {\n",
       "        vertical-align: top;\n",
       "    }\n",
       "\n",
       "    .dataframe thead th {\n",
       "        text-align: right;\n",
       "    }\n",
       "</style>\n",
       "<table border=\"1\" class=\"dataframe\">\n",
       "  <thead>\n",
       "    <tr style=\"text-align: right;\">\n",
       "      <th></th>\n",
       "      <th>Month</th>\n",
       "      <th>Total Revenue</th>\n",
       "    </tr>\n",
       "  </thead>\n",
       "  <tbody>\n",
       "    <tr>\n",
       "      <th>0</th>\n",
       "      <td>1</td>\n",
       "      <td>26364.606879</td>\n",
       "    </tr>\n",
       "    <tr>\n",
       "      <th>1</th>\n",
       "      <td>2</td>\n",
       "      <td>24101.008294</td>\n",
       "    </tr>\n",
       "    <tr>\n",
       "      <th>2</th>\n",
       "      <td>3</td>\n",
       "      <td>25819.896499</td>\n",
       "    </tr>\n",
       "    <tr>\n",
       "      <th>3</th>\n",
       "      <td>4</td>\n",
       "      <td>27282.823661</td>\n",
       "    </tr>\n",
       "    <tr>\n",
       "      <th>4</th>\n",
       "      <td>5</td>\n",
       "      <td>29278.657038</td>\n",
       "    </tr>\n",
       "    <tr>\n",
       "      <th>5</th>\n",
       "      <td>6</td>\n",
       "      <td>21801.360987</td>\n",
       "    </tr>\n",
       "    <tr>\n",
       "      <th>6</th>\n",
       "      <td>7</td>\n",
       "      <td>22402.882413</td>\n",
       "    </tr>\n",
       "    <tr>\n",
       "      <th>7</th>\n",
       "      <td>8</td>\n",
       "      <td>29480.018226</td>\n",
       "    </tr>\n",
       "    <tr>\n",
       "      <th>8</th>\n",
       "      <td>9</td>\n",
       "      <td>26395.587240</td>\n",
       "    </tr>\n",
       "    <tr>\n",
       "      <th>9</th>\n",
       "      <td>10</td>\n",
       "      <td>22623.271055</td>\n",
       "    </tr>\n",
       "    <tr>\n",
       "      <th>10</th>\n",
       "      <td>11</td>\n",
       "      <td>24759.229884</td>\n",
       "    </tr>\n",
       "    <tr>\n",
       "      <th>11</th>\n",
       "      <td>12</td>\n",
       "      <td>33345.284777</td>\n",
       "    </tr>\n",
       "  </tbody>\n",
       "</table>\n",
       "</div>"
      ],
      "text/plain": [
       "    Month  Total Revenue\n",
       "0       1   26364.606879\n",
       "1       2   24101.008294\n",
       "2       3   25819.896499\n",
       "3       4   27282.823661\n",
       "4       5   29278.657038\n",
       "5       6   21801.360987\n",
       "6       7   22402.882413\n",
       "7       8   29480.018226\n",
       "8       9   26395.587240\n",
       "9      10   22623.271055\n",
       "10     11   24759.229884\n",
       "11     12   33345.284777"
      ]
     },
     "execution_count": 10,
     "metadata": {},
     "output_type": "execute_result"
    }
   ],
   "source": [
    "monthly_revenue"
   ]
  },
  {
   "cell_type": "code",
   "execution_count": 9,
   "id": "82f5b9c3",
   "metadata": {},
   "outputs": [
    {
     "data": {
      "image/png": "[encoded data removed]",
      "text/plain": [
       "<Figure size 640x480 with 1 Axes>"
      ]
     },
     "metadata": {},
     "output_type": "display_data"
    }
   ],
   "source": [
    "# 5. Plot a bar chart showing total revenue for each month\n",
    "plt.bar(monthly_revenue['Month'], monthly_revenue['Total Revenue'])\n",
    "plt.xlabel('Month')\n",
    "plt.ylabel('Total Revenue')\n",
    "plt.title('Total Revenue by Month')\n",
    "plt.xticks(range(1, 13))\n",
    "plt.show()"
   ]
  },
  {
   "cell_type": "code",
   "execution_count": 11,
   "id": "3762e044",
   "metadata": {},
   "outputs": [
    {
     "name": "stdout",
     "output_type": "stream",
     "text": [
      "Total Revenue by Product:\n",
      "Product\n",
      "Product_3     36032.173631\n",
      "Product_1     35889.040169\n",
      "Product_7     33372.132401\n",
      "Product_4     32830.879085\n",
      "Product_10    28970.934105\n",
      "Product_8     28927.939063\n",
      "Product_9     28647.718970\n",
      "Product_2     28235.740376\n",
      "Product_6     24902.723156\n",
      "Product_5     22979.900446\n",
      "Name: Total Revenue, dtype: float64\n"
     ]
    }
   ],
   "source": [
    "# Print the results\n",
    "print(\"Total Revenue by Product:\")\n",
    "print(product_revenue)"
   ]
  },
  {
   "cell_type": "code",
   "execution_count": 12,
   "id": "45bab265",
   "metadata": {},
   "outputs": [
    {
     "name": "stdout",
     "output_type": "stream",
     "text": [
      "\n",
      "Top 5 Products by Revenue:\n",
      "Product\n",
      "Product_3     36032.173631\n",
      "Product_1     35889.040169\n",
      "Product_7     33372.132401\n",
      "Product_4     32830.879085\n",
      "Product_10    28970.934105\n",
      "Name: Total Revenue, dtype: float64\n"
     ]
    }
   ],
   "source": [
    "print(\"\\nTop 5 Products by Revenue:\")\n",
    "print(top_5_products)"
   ]
  },
  {
   "cell_type": "code",
   "execution_count": 13,
   "id": "1c6ce085",
   "metadata": {},
   "outputs": [
    {
     "name": "stdout",
     "output_type": "stream",
     "text": [
      "\n",
      "Total Revenue by Month:\n",
      "    Month  Total Revenue\n",
      "0       1   29053.620936\n",
      "1       2   28350.293534\n",
      "2       3   23465.405021\n",
      "3       4   22479.869239\n",
      "4       5   20285.013041\n",
      "5       6   23755.004894\n",
      "6       7   28250.883645\n",
      "7       8   30579.482966\n",
      "8       9   27249.728055\n",
      "9      10   20537.290893\n",
      "10     11   21647.847815\n",
      "11     12   25134.741361\n"
     ]
    }
   ],
   "source": [
    "print(\"\\nTotal Revenue by Month:\")\n",
    "print(monthly_revenue)"
   ]
  },
  {
   "cell_type": "code",
   "execution_count": null,
   "id": "ab568602",
   "metadata": {},
   "outputs": [],
   "source": []
  },
  {
   "cell_type": "code",
   "execution_count": null,
   "id": "06749165",
   "metadata": {},
   "outputs": [],
   "source": []
  },
  {
   "cell_type": "code",
   "execution_count": null,
   "id": "58041811",
   "metadata": {},
   "outputs": [],
   "source": []
  },
  {
   "cell_type": "code",
   "execution_count": null,
   "id": "ebf162e5",
   "metadata": {},
   "outputs": [],
   "source": []
  },
  {
   "cell_type": "code",
   "execution_count": null,
   "id": "a72f438c",
   "metadata": {},
   "outputs": [],
   "source": []
  },
  {
   "cell_type": "code",
   "execution_count": null,
   "id": "395dcb6c",
   "metadata": {},
   "outputs": [],
   "source": []
  },
  {
   "cell_type": "code",
   "execution_count": null,
   "id": "517bd8e7",
   "metadata": {},
   "outputs": [],
   "source": []
  },
  {
   "cell_type": "code",
   "execution_count": null,
   "id": "a99f0174",
   "metadata": {},
   "outputs": [],
   "source": []
  }
 ],
 "metadata": {
  "kernelspec": {
   "display_name": "Python 3 (ipykernel)",
   "language": "python",
   "name": "python3"
  },
  "language_info": {
   "codemirror_mode": {
    "name": "ipython",
    "version": 3
   },
   "file_extension": ".py",
   "mimetype": "text/x-python",
   "name": "python",
   "nbconvert_exporter": "python",
   "pygments_lexer": "ipython3",
   "version": "3.10.14"
  }
 },
 "nbformat": 4,
 "nbformat_minor": 5
}
